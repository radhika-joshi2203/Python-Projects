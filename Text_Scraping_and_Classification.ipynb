{
 "cells": [
  {
   "cell_type": "markdown",
   "metadata": {},
   "source": [
    "<h1> <font color='brown'>COMP41680 Assignment 2: Text Scraping & Classification</font></h1>\n",
    "\n",
    "\n",
    "<h2><font color='brown'>Radhika Joshi 17202769</font></h2>\n",
    "\n",
    "<hr style=\"height:2px\">"
   ]
  },
  {
   "cell_type": "markdown",
   "metadata": {},
   "source": [
    "<h2 align=\"center\">  <font color='green'> Part 1. Data Collection</font> </h2>"
   ]
  },
  {
   "cell_type": "markdown",
   "metadata": {},
   "source": [
    "<h3>  Collect a labelled news corpus</h3>\n",
    "<ol>\n",
    "    <li> Identifying the URL and Category Labels</li>\n",
    "    We work for this part by following the steps mentioned below:\n",
    "    <ol>\n",
    "        <li> We work with the following website:http://mlg.ucd.ie/modules/COMP41680/archive/index.html </li>\n",
    "        <li> From the website we can see that the website has archives of news articles. These articles are __categorised by month__, and within months, each news article is categorised into __three__ news categories based on the genre they cover :             </li>\n",
    "               <ul>\n",
    "                   <li>Technology</li>\n",
    "                   <li>Business</li>\n",
    "                   <li>Sport</li>\n",
    "               </ul>\n",
    "        <li>There are also some articles that are no longer available in this list.\n",
    "    </ol>\n",
    "    <li> If we inspect the URL for the articles we can observe a pattern in the URL. The home page lists the articles by month, and navigating to each of these months they URL changes to : http://mlg.ucd.ie/modules/COMP41680/archive/month_name_2017.html \n",
    "where name is all months from January to December. </li>\n",
    "    <li> Next, for the article itself, the pattern is as follows : http://mlg.ucd.ie/modules/COMP41680/archive/article_month_reference_number.html where the month and(or) reference number change for each article. </li>\n",
    "</ol>\n",
    "\n",
    "\n",
    "We exploit this pattern to navigate and parse the pages. The body of each article is stored in one text file, and the category list is stored as a separate file.\n",
    "\n",
    "<hr hr style=\"height:2px\">"
   ]
  },
  {
   "cell_type": "code",
   "execution_count": 4,
   "metadata": {},
   "outputs": [
    {
     "name": "stdout",
     "output_type": "stream",
     "text": [
      "Month links collection complete\n"
     ]
    }
   ],
   "source": [
    "# import the packages \"request\" and \"Beautiful Soup\" for navigating and parsing the webpage.\n",
    "\n",
    "from bs4 import BeautifulSoup as soup\n",
    "from urllib.request import urlopen as uReq \n",
    "\n",
    "# Part of the link which is same for all the webpages\n",
    "my_url = 'http://mlg.ucd.ie/modules/COMP41680/archive/'\n",
    "\n",
    "# end of the main page of URL\n",
    "main_page = 'index.html'\n",
    "\n",
    "# initialising empty lists which will contain the following information :\n",
    "container = list()            # this list will enlist all the links to months\n",
    "article_list = list()         # this list contains all the article links\n",
    "category_list = list()        # this contains all the categories listed per article in the form of a list\n",
    "\n",
    "# define a function to navigate and parse the webpage for link to each page\n",
    "\n",
    "def month_list():\n",
    "    step = uReq(my_url+main_page)\n",
    "    page_html = step.read()\n",
    "    step.close()\n",
    "    soups = soup(page_html,'html.parser')\n",
    "        \n",
    "    for div in soups.find_all('li'):\n",
    "        container.append(div.a.get('href'))\n",
    "        \n",
    "month_list()\n",
    "#print(container)\n",
    "print('Month links collection complete')"
   ]
  },
  {
   "cell_type": "markdown",
   "metadata": {},
   "source": [
    "Utilizing the function above, we get the links for navigating another page by the referenced month. Using this list in the \"container\", we iterate for each link and look for the article links and data to store it into different files. "
   ]
  },
  {
   "cell_type": "code",
   "execution_count": 5,
   "metadata": {},
   "outputs": [
    {
     "name": "stdout",
     "output_type": "stream",
     "text": [
      "Dictionary with links and category created\n"
     ]
    }
   ],
   "source": [
    "# loop to iterate and parse for all the links to the article pages.\n",
    "\n",
    "for art in container:\n",
    "    link = uReq(my_url+art)\n",
    "    article=link.read()\n",
    "    link.close()\n",
    "    Soup = soup(article,'html.parser')\n",
    "    #print(article)\n",
    "    \n",
    "    '''\n",
    "    loop to find all the tr tags in the table to look for the category label. This will be used to assemble all the category\n",
    "    labels in a file (data frame)\n",
    "    \n",
    "    '''\n",
    "    for divtwo in Soup.find_all('tr'):\n",
    "        divthree = divtwo.find(\"td\",{'class':'category'})\n",
    "        \n",
    "        # Check if divthree = TRUE to ensure that only \"td\" with class=category are picked.\n",
    "        if divthree:\n",
    "            category = divthree.text\n",
    "            category = category.strip()\n",
    "            \n",
    "            # Check for empty category, i.e. for any article which is no longer available in the archives\n",
    "            if category != 'N/A':\n",
    "                category_list.append(category)\n",
    "        \n",
    "        # add all class= title and also check if they have the \"a\" tag. For all elements that follow this, \n",
    "        # save the links obtained in \"href\" to the list \"article_list\"\n",
    "        divfour = divtwo.find(\"td\",{'class':'title'})\n",
    "        \n",
    "        if divfour and divfour.a :\n",
    "            article_list.append(divfour.a.get('href'))\n",
    "\n",
    "# Create dictionary with keys = article_list and value = category list which will store the article links \n",
    "# and the category labels together.            \n",
    "dic = dict(zip(article_list, category_list))\n",
    "print(\"Dictionary with links and category created\")"
   ]
  },
  {
   "cell_type": "code",
   "execution_count": 6,
   "metadata": {},
   "outputs": [
    {
     "data": {
      "text/html": [
       "<div>\n",
       "<style>\n",
       "    .dataframe thead tr:only-child th {\n",
       "        text-align: right;\n",
       "    }\n",
       "\n",
       "    .dataframe thead th {\n",
       "        text-align: left;\n",
       "    }\n",
       "\n",
       "    .dataframe tbody tr th {\n",
       "        vertical-align: top;\n",
       "    }\n",
       "</style>\n",
       "<table border=\"1\" class=\"dataframe\">\n",
       "  <thead>\n",
       "    <tr style=\"text-align: right;\">\n",
       "      <th></th>\n",
       "      <th>Link</th>\n",
       "      <th>Category</th>\n",
       "    </tr>\n",
       "  </thead>\n",
       "  <tbody>\n",
       "    <tr>\n",
       "      <th>0</th>\n",
       "      <td>article-jan-0418.html</td>\n",
       "      <td>technology</td>\n",
       "    </tr>\n",
       "    <tr>\n",
       "      <th>1</th>\n",
       "      <td>article-jan-0027.html</td>\n",
       "      <td>business</td>\n",
       "    </tr>\n",
       "    <tr>\n",
       "      <th>2</th>\n",
       "      <td>article-jan-0631.html</td>\n",
       "      <td>technology</td>\n",
       "    </tr>\n",
       "    <tr>\n",
       "      <th>3</th>\n",
       "      <td>article-jan-2105.html</td>\n",
       "      <td>business</td>\n",
       "    </tr>\n",
       "    <tr>\n",
       "      <th>4</th>\n",
       "      <td>article-jan-3300.html</td>\n",
       "      <td>sport</td>\n",
       "    </tr>\n",
       "  </tbody>\n",
       "</table>\n",
       "</div>"
      ],
      "text/plain": [
       "                    Link    Category\n",
       "0  article-jan-0418.html  technology\n",
       "1  article-jan-0027.html    business\n",
       "2  article-jan-0631.html  technology\n",
       "3  article-jan-2105.html    business\n",
       "4  article-jan-3300.html       sport"
      ]
     },
     "metadata": {},
     "output_type": "display_data"
    }
   ],
   "source": [
    "# Create data frame using the dictionary created above \n",
    "\n",
    "import pandas as pd\n",
    "file1 = pd.DataFrame.from_dict(list(dic.items()))\n",
    "file1.rename(columns={0: 'Link', 1: 'Category'}, inplace=True)\n",
    "display(file1.head())\n"
   ]
  },
  {
   "cell_type": "markdown",
   "metadata": {},
   "source": [
    "Created two files __'articles.txt'__  and  __'category_list.txt'__ to store the data scraped from the website. The file \"articles.txt\" contains each article and it's title as a single line of the text file. According to the data we see, we should have 1407 articles in this exercise.\n",
    "\n",
    "The file \"category_list\" contains the link to each article and its class listed from the corpus. "
   ]
  },
  {
   "cell_type": "code",
   "execution_count": 11,
   "metadata": {},
   "outputs": [
    {
     "name": "stdout",
     "output_type": "stream",
     "text": [
      "Writing to text file \"articles\" complete\n"
     ]
    }
   ],
   "source": [
    "# create the two files to store data\n",
    "\n",
    "f_file = open(\"articles.txt\", 'a', encoding='utf-8')\n",
    "\n",
    "for article_link in dic.keys():\n",
    "    data = uReq(my_url+article_link)\n",
    "    news=data.read()\n",
    "    data.close()\n",
    "    \n",
    "    news_text = soup(news,'html.parser')\n",
    "    \n",
    "      \n",
    "    article_body = news_text.find('body')\n",
    "    header = article_body.find('h2').text\n",
    "    f_file.write(header)\n",
    "    f_file.write(\" \")\n",
    "    \n",
    "    for p_text in article_body.find_all('p', class_=False):\n",
    "        if len(p_text) > 0:\n",
    "            f_file.write(p_text.text)\n",
    "            f_file.write(\" \")\n",
    "    # Ensures each article is written in a newline\n",
    "    f_file.write(\"\\n\")\n",
    "        \n",
    "f_file.close()\n",
    "print('Writing to text file \"articles\" complete')"
   ]
  },
  {
   "cell_type": "code",
   "execution_count": 12,
   "metadata": {},
   "outputs": [
    {
     "name": "stdout",
     "output_type": "stream",
     "text": [
      "Writing to text file \"category_list\" complete\n"
     ]
    }
   ],
   "source": [
    "# Write the category list file\n",
    "import os\n",
    "ff_file = open('category_list.txt', 'w', encoding='utf-8')\n",
    "\n",
    "headers = ['name', 'category']\n",
    "\n",
    "ff_file.write(','.join(headers) + '\\n')\n",
    "\n",
    "for key, value in dic.items():\n",
    "    ff_file.write('%s,%s\\n' % (key, value))\n",
    "    \n",
    "ff_file.close()\n",
    "print('Writing to text file \"category_list\" complete')"
   ]
  },
  {
   "cell_type": "markdown",
   "metadata": {},
   "source": [
    "<hr style =\"height:2px\">\n",
    "<h2 align=\"center\">  <font color='green'> Part 2. Text Classification</font> </h2>"
   ]
  },
  {
   "cell_type": "markdown",
   "metadata": {},
   "source": [
    "<h3> 1. Pre Processing</h3>\n",
    "<ol>\n",
    "    <li> From the files created in Part 1, load the set of raw documents into your notebook. Ensure that each document has a class label, based on the original category label that you identified.\n",
    "</ol>"
   ]
  },
  {
   "cell_type": "code",
   "execution_count": 13,
   "metadata": {},
   "outputs": [
    {
     "data": {
      "text/html": [
       "<div>\n",
       "<style>\n",
       "    .dataframe thead tr:only-child th {\n",
       "        text-align: right;\n",
       "    }\n",
       "\n",
       "    .dataframe thead th {\n",
       "        text-align: left;\n",
       "    }\n",
       "\n",
       "    .dataframe tbody tr th {\n",
       "        vertical-align: top;\n",
       "    }\n",
       "</style>\n",
       "<table border=\"1\" class=\"dataframe\">\n",
       "  <thead>\n",
       "    <tr style=\"text-align: right;\">\n",
       "      <th></th>\n",
       "      <th>name</th>\n",
       "      <th>category</th>\n",
       "      <th>content</th>\n",
       "    </tr>\n",
       "  </thead>\n",
       "  <tbody>\n",
       "    <tr>\n",
       "      <th>0</th>\n",
       "      <td>article-jan-0418.html</td>\n",
       "      <td>technology</td>\n",
       "      <td>21st-Century Sports: How Digital Technology Is...</td>\n",
       "    </tr>\n",
       "    <tr>\n",
       "      <th>1</th>\n",
       "      <td>article-jan-0027.html</td>\n",
       "      <td>business</td>\n",
       "      <td>Asian quake hits European shares Asian quake h...</td>\n",
       "    </tr>\n",
       "    <tr>\n",
       "      <th>2</th>\n",
       "      <td>article-jan-0631.html</td>\n",
       "      <td>technology</td>\n",
       "      <td>BT offers free net phone calls BT is offering ...</td>\n",
       "    </tr>\n",
       "    <tr>\n",
       "      <th>3</th>\n",
       "      <td>article-jan-2105.html</td>\n",
       "      <td>business</td>\n",
       "      <td>Barclays shares up on merger talk Barclays sha...</td>\n",
       "    </tr>\n",
       "    <tr>\n",
       "      <th>4</th>\n",
       "      <td>article-jan-3300.html</td>\n",
       "      <td>sport</td>\n",
       "      <td>Barkley fit for match in Ireland England centr...</td>\n",
       "    </tr>\n",
       "  </tbody>\n",
       "</table>\n",
       "</div>"
      ],
      "text/plain": [
       "                    name    category  \\\n",
       "0  article-jan-0418.html  technology   \n",
       "1  article-jan-0027.html    business   \n",
       "2  article-jan-0631.html  technology   \n",
       "3  article-jan-2105.html    business   \n",
       "4  article-jan-3300.html       sport   \n",
       "\n",
       "                                             content  \n",
       "0  21st-Century Sports: How Digital Technology Is...  \n",
       "1  Asian quake hits European shares Asian quake h...  \n",
       "2  BT offers free net phone calls BT is offering ...  \n",
       "3  Barclays shares up on merger talk Barclays sha...  \n",
       "4  Barkley fit for match in Ireland England centr...  "
      ]
     },
     "execution_count": 13,
     "metadata": {},
     "output_type": "execute_result"
    }
   ],
   "source": [
    "# Append the article text from the text file into the data frame. \n",
    "# This forms the reference data frame which contains all the information\n",
    "\n",
    "df = pd.read_csv('category_list.txt')\n",
    "doc_list=[]\n",
    "doc = open('articles.txt',\"r\", encoding='utf-8')\n",
    "document = doc.readlines()\n",
    "doc.close()\n",
    "for line in document:\n",
    "    doc_list.append(line)\n",
    "    \n",
    "df['content']=doc_list\n",
    "df.head()\n"
   ]
  },
  {
   "cell_type": "markdown",
   "metadata": {},
   "source": [
    "Plot to show the number of articles per category in the corpus"
   ]
  },
  {
   "cell_type": "code",
   "execution_count": 14,
   "metadata": {},
   "outputs": [
    {
     "data": {
      "text/plain": [
       "<matplotlib.figure.Figure at 0x288e98e9e10>"
      ]
     },
     "metadata": {},
     "output_type": "display_data"
    },
    {
     "data": {
      "image/png": "[encoded data removed]",
      "text/plain": [
       "<matplotlib.figure.Figure at 0x288eb4d0400>"
      ]
     },
     "metadata": {},
     "output_type": "display_data"
    }
   ],
   "source": [
    "# Plot for visual representation of the number of articles per category in the corpus\n",
    "\n",
    "import matplotlib.pyplot as plt\n",
    "fig = plt.figure(figsize=(8,6))\n",
    "df.groupby('category').content.count().plot.bar(ylim=0)\n",
    "plt.ylabel('Number of articles per category')\n",
    "plt.show()"
   ]
  },
  {
   "cell_type": "markdown",
   "metadata": {},
   "source": [
    "<h5> The need to pre-process raw data </h5>\n",
    "\n",
    "Raw text documents are unstructured. In analysing this type of data is to split all the words of the text data into individual \"tokens\", where each token corresponds to a single term(word). \n",
    "\n",
    "However, raw data cannot be directly analysed for classification and learning processes because we have to deal with a few problems that come with any language. For our case, with language, English, we have the following problems:\n",
    "<ol>\n",
    "<li>  Minimum term length: Since a lot of the prepositions and most frequent words are either 1 or 2 alphabets long, we wish to ignore them. </li>\n",
    "<li> Case conversion: To make further processing easier, it is beneficial to convert all the terms of the corpus to lower-case only.</li>\n",
    "<li> Stemming: Process by which endings are removed from terms. </li>\n",
    "<li> Lemmatisation: Process to reduce a term to its canonical form. Both lemmatization and stemming help by ensuring that the inflected or canonical forms of any word aren't categorised as different words later when they are converted to tokens. We can simply use lemmatization instead of both stemming and lemmatization, since lemmatization takes care of the funcitonality of stemming. </li>\n",
    "<li> Stop-word filtering: Filter out the words which appear frequently, but are of no help in decision making, eg: are, while etc.</li>\n",
    "<li> Low frequency filtering: Remove terms that appear in very few documents. </li>\n",
    "</ol>\n",
    "\n",
    "For our corpus we use the packages scikit and nltk and work with lemmatization for dealing with all the problems mentioned above."
   ]
  },
  {
   "cell_type": "code",
   "execution_count": 15,
   "metadata": {},
   "outputs": [
    {
     "name": "stdout",
     "output_type": "stream",
     "text": [
      "[nltk_data] Downloading package wordnet to\n",
      "[nltk_data]     C:\\Users\\Radhika\\AppData\\Roaming\\nltk_data...\n",
      "[nltk_data]   Package wordnet is already up-to-date!\n"
     ]
    }
   ],
   "source": [
    "import nltk\n",
    "nltk.download('wordnet')\n",
    "import numpy as np\n",
    "import matplotlib.cm as cm\n",
    "from collections import defaultdict\n",
    "from sklearn.feature_extraction.text import CountVectorizer\n",
    "from sklearn.feature_extraction.text import TfidfVectorizer"
   ]
  },
  {
   "cell_type": "markdown",
   "metadata": {},
   "source": [
    "<h4> Pre-processing steps: Tokenization, Lemmatization and creation of  the TF_IDF matrix</h4>\n",
    "\n",
    "Performing the preprocessing steps and creation of the TF_IDF matrix which gives weights to the words which show the imporance of the words for a document. This is done to ensure that words that are in abundance but irrelevant to decision making don't overshadow the important words needed for decision making."
   ]
  },
  {
   "cell_type": "code",
   "execution_count": 16,
   "metadata": {
    "collapsed": true
   },
   "outputs": [],
   "source": [
    "import string\n",
    "\n",
    "def lemma_tokenizer(text):\n",
    "    \n",
    "    for p in string.punctuation:\n",
    "        text = text.replace(p, \" \")\n",
    "    # use the standard scikit-learn tokenizer first\n",
    "    standard_tokenizer = CountVectorizer().build_tokenizer()\n",
    "    tokens = standard_tokenizer(text)\n",
    "    # then use NLTK to perform lemmatisation on each token\n",
    "    lemmatizer = nltk.stem.WordNetLemmatizer()\n",
    "    lemma_tokens = []\n",
    "    for token in tokens:\n",
    "        lemma_tokens.append( lemmatizer.lemmatize(token) )\n",
    "    return lemma_tokens"
   ]
  },
  {
   "cell_type": "code",
   "execution_count": 17,
   "metadata": {},
   "outputs": [
    {
     "name": "stdout",
     "output_type": "stream",
     "text": [
      "(1408, 6101)\n"
     ]
    }
   ],
   "source": [
    "# we can pass in the same preprocessing parameters\n",
    "term_weight = TfidfVectorizer(stop_words=\"english\",min_df=5,tokenizer=lemma_tokenizer)\n",
    "weights = term_weight.fit_transform(document)\n",
    "# display some sample weighted values\n",
    "print(weights.shape)\n",
    "TF_IDVectorised = pd.DataFrame(weights.toarray(),columns = term_weight.get_feature_names())\n",
    "#TF_IDVectorised.head()"
   ]
  },
  {
   "cell_type": "code",
   "execution_count": 18,
   "metadata": {
    "collapsed": true
   },
   "outputs": [],
   "source": [
    "# Add a column to include the category of the article for which the word has appeared\n",
    "# add a column to display the link of the article in which the word appeared\n",
    "TF_IDVectorised['CLASS'] = df['category']\n",
    "TF_IDVectorised['FILE'] = df['name']"
   ]
  },
  {
   "cell_type": "code",
   "execution_count": 19,
   "metadata": {
    "collapsed": true
   },
   "outputs": [],
   "source": [
    "TF_IDVectorised = TF_IDVectorised.set_index('FILE')"
   ]
  },
  {
   "cell_type": "code",
   "execution_count": 20,
   "metadata": {},
   "outputs": [
    {
     "data": {
      "text/html": [
       "<div>\n",
       "<style>\n",
       "    .dataframe thead tr:only-child th {\n",
       "        text-align: right;\n",
       "    }\n",
       "\n",
       "    .dataframe thead th {\n",
       "        text-align: left;\n",
       "    }\n",
       "\n",
       "    .dataframe tbody tr th {\n",
       "        vertical-align: top;\n",
       "    }\n",
       "</style>\n",
       "<table border=\"1\" class=\"dataframe\">\n",
       "  <thead>\n",
       "    <tr style=\"text-align: right;\">\n",
       "      <th></th>\n",
       "      <th>000</th>\n",
       "      <th>000m</th>\n",
       "      <th>01</th>\n",
       "      <th>03</th>\n",
       "      <th>04</th>\n",
       "      <th>05</th>\n",
       "      <th>07</th>\n",
       "      <th>10</th>\n",
       "      <th>100</th>\n",
       "      <th>100m</th>\n",
       "      <th>...</th>\n",
       "      <th>yukos</th>\n",
       "      <th>zealand</th>\n",
       "      <th>zero</th>\n",
       "      <th>zidane</th>\n",
       "      <th>zinedine</th>\n",
       "      <th>zombie</th>\n",
       "      <th>zone</th>\n",
       "      <th>zoom</th>\n",
       "      <th>zurich</th>\n",
       "      <th>CLASS</th>\n",
       "    </tr>\n",
       "    <tr>\n",
       "      <th>FILE</th>\n",
       "      <th></th>\n",
       "      <th></th>\n",
       "      <th></th>\n",
       "      <th></th>\n",
       "      <th></th>\n",
       "      <th></th>\n",
       "      <th></th>\n",
       "      <th></th>\n",
       "      <th></th>\n",
       "      <th></th>\n",
       "      <th></th>\n",
       "      <th></th>\n",
       "      <th></th>\n",
       "      <th></th>\n",
       "      <th></th>\n",
       "      <th></th>\n",
       "      <th></th>\n",
       "      <th></th>\n",
       "      <th></th>\n",
       "      <th></th>\n",
       "      <th></th>\n",
       "    </tr>\n",
       "  </thead>\n",
       "  <tbody>\n",
       "    <tr>\n",
       "      <th>article-jan-0418.html</th>\n",
       "      <td>0.000000</td>\n",
       "      <td>0.0</td>\n",
       "      <td>0.0</td>\n",
       "      <td>0.000000</td>\n",
       "      <td>0.0</td>\n",
       "      <td>0.0</td>\n",
       "      <td>0.000000</td>\n",
       "      <td>0.000000</td>\n",
       "      <td>0.000000</td>\n",
       "      <td>0.0</td>\n",
       "      <td>...</td>\n",
       "      <td>0.0</td>\n",
       "      <td>0.0</td>\n",
       "      <td>0.0</td>\n",
       "      <td>0.0</td>\n",
       "      <td>0.0</td>\n",
       "      <td>0.0</td>\n",
       "      <td>0.0</td>\n",
       "      <td>0.0</td>\n",
       "      <td>0.000000</td>\n",
       "      <td>technology</td>\n",
       "    </tr>\n",
       "    <tr>\n",
       "      <th>article-jan-0027.html</th>\n",
       "      <td>0.051255</td>\n",
       "      <td>0.0</td>\n",
       "      <td>0.0</td>\n",
       "      <td>0.063967</td>\n",
       "      <td>0.0</td>\n",
       "      <td>0.0</td>\n",
       "      <td>0.061117</td>\n",
       "      <td>0.050779</td>\n",
       "      <td>0.000000</td>\n",
       "      <td>0.0</td>\n",
       "      <td>...</td>\n",
       "      <td>0.0</td>\n",
       "      <td>0.0</td>\n",
       "      <td>0.0</td>\n",
       "      <td>0.0</td>\n",
       "      <td>0.0</td>\n",
       "      <td>0.0</td>\n",
       "      <td>0.0</td>\n",
       "      <td>0.0</td>\n",
       "      <td>0.054892</td>\n",
       "      <td>business</td>\n",
       "    </tr>\n",
       "    <tr>\n",
       "      <th>article-jan-0631.html</th>\n",
       "      <td>0.026347</td>\n",
       "      <td>0.0</td>\n",
       "      <td>0.0</td>\n",
       "      <td>0.000000</td>\n",
       "      <td>0.0</td>\n",
       "      <td>0.0</td>\n",
       "      <td>0.000000</td>\n",
       "      <td>0.026103</td>\n",
       "      <td>0.000000</td>\n",
       "      <td>0.0</td>\n",
       "      <td>...</td>\n",
       "      <td>0.0</td>\n",
       "      <td>0.0</td>\n",
       "      <td>0.0</td>\n",
       "      <td>0.0</td>\n",
       "      <td>0.0</td>\n",
       "      <td>0.0</td>\n",
       "      <td>0.0</td>\n",
       "      <td>0.0</td>\n",
       "      <td>0.000000</td>\n",
       "      <td>technology</td>\n",
       "    </tr>\n",
       "    <tr>\n",
       "      <th>article-jan-2105.html</th>\n",
       "      <td>0.031093</td>\n",
       "      <td>0.0</td>\n",
       "      <td>0.0</td>\n",
       "      <td>0.000000</td>\n",
       "      <td>0.0</td>\n",
       "      <td>0.0</td>\n",
       "      <td>0.000000</td>\n",
       "      <td>0.000000</td>\n",
       "      <td>0.043104</td>\n",
       "      <td>0.0</td>\n",
       "      <td>...</td>\n",
       "      <td>0.0</td>\n",
       "      <td>0.0</td>\n",
       "      <td>0.0</td>\n",
       "      <td>0.0</td>\n",
       "      <td>0.0</td>\n",
       "      <td>0.0</td>\n",
       "      <td>0.0</td>\n",
       "      <td>0.0</td>\n",
       "      <td>0.000000</td>\n",
       "      <td>business</td>\n",
       "    </tr>\n",
       "    <tr>\n",
       "      <th>article-jan-3300.html</th>\n",
       "      <td>0.000000</td>\n",
       "      <td>0.0</td>\n",
       "      <td>0.0</td>\n",
       "      <td>0.000000</td>\n",
       "      <td>0.0</td>\n",
       "      <td>0.0</td>\n",
       "      <td>0.000000</td>\n",
       "      <td>0.036287</td>\n",
       "      <td>0.000000</td>\n",
       "      <td>0.0</td>\n",
       "      <td>...</td>\n",
       "      <td>0.0</td>\n",
       "      <td>0.0</td>\n",
       "      <td>0.0</td>\n",
       "      <td>0.0</td>\n",
       "      <td>0.0</td>\n",
       "      <td>0.0</td>\n",
       "      <td>0.0</td>\n",
       "      <td>0.0</td>\n",
       "      <td>0.000000</td>\n",
       "      <td>sport</td>\n",
       "    </tr>\n",
       "  </tbody>\n",
       "</table>\n",
       "<p>5 rows × 6102 columns</p>\n",
       "</div>"
      ],
      "text/plain": [
       "                            000  000m   01        03   04   05        07  \\\n",
       "FILE                                                                       \n",
       "article-jan-0418.html  0.000000   0.0  0.0  0.000000  0.0  0.0  0.000000   \n",
       "article-jan-0027.html  0.051255   0.0  0.0  0.063967  0.0  0.0  0.061117   \n",
       "article-jan-0631.html  0.026347   0.0  0.0  0.000000  0.0  0.0  0.000000   \n",
       "article-jan-2105.html  0.031093   0.0  0.0  0.000000  0.0  0.0  0.000000   \n",
       "article-jan-3300.html  0.000000   0.0  0.0  0.000000  0.0  0.0  0.000000   \n",
       "\n",
       "                             10       100  100m     ...      yukos  zealand  \\\n",
       "FILE                                                ...                       \n",
       "article-jan-0418.html  0.000000  0.000000   0.0     ...        0.0      0.0   \n",
       "article-jan-0027.html  0.050779  0.000000   0.0     ...        0.0      0.0   \n",
       "article-jan-0631.html  0.026103  0.000000   0.0     ...        0.0      0.0   \n",
       "article-jan-2105.html  0.000000  0.043104   0.0     ...        0.0      0.0   \n",
       "article-jan-3300.html  0.036287  0.000000   0.0     ...        0.0      0.0   \n",
       "\n",
       "                       zero  zidane  zinedine  zombie  zone  zoom    zurich  \\\n",
       "FILE                                                                          \n",
       "article-jan-0418.html   0.0     0.0       0.0     0.0   0.0   0.0  0.000000   \n",
       "article-jan-0027.html   0.0     0.0       0.0     0.0   0.0   0.0  0.054892   \n",
       "article-jan-0631.html   0.0     0.0       0.0     0.0   0.0   0.0  0.000000   \n",
       "article-jan-2105.html   0.0     0.0       0.0     0.0   0.0   0.0  0.000000   \n",
       "article-jan-3300.html   0.0     0.0       0.0     0.0   0.0   0.0  0.000000   \n",
       "\n",
       "                            CLASS  \n",
       "FILE                               \n",
       "article-jan-0418.html  technology  \n",
       "article-jan-0027.html    business  \n",
       "article-jan-0631.html  technology  \n",
       "article-jan-2105.html    business  \n",
       "article-jan-3300.html       sport  \n",
       "\n",
       "[5 rows x 6102 columns]"
      ]
     },
     "execution_count": 20,
     "metadata": {},
     "output_type": "execute_result"
    }
   ],
   "source": [
    "TF_IDVectorised.shape\n",
    "TF_IDVectorised.head()"
   ]
  },
  {
   "cell_type": "markdown",
   "metadata": {},
   "source": [
    "<h3> 2. Building the classification model</h3>\n",
    "\n",
    "The data in the articles is now processed and can be used for classification and learning. We start by using classifier models to classify the articles. We will use the data from the previous steps and split it into training and test, where more data is used to train and a smaller portion is used to test. \n",
    "\n",
    "The first type of classifier I will be working with is:\n",
    "<ul>\n",
    "<li> K Nearest Neighbour Classifier </li>\n",
    "</ul>"
   ]
  },
  {
   "cell_type": "code",
   "execution_count": 21,
   "metadata": {},
   "outputs": [
    {
     "name": "stdout",
     "output_type": "stream",
     "text": [
      "Training set size is 1126\n",
      "Test set size is 282\n"
     ]
    }
   ],
   "source": [
    "# working with data from TF_IDFVectorised for training and testing\n",
    "\n",
    "from sklearn.neighbors import KNeighborsClassifier as KNN\n",
    "from sklearn.model_selection import train_test_split\n",
    "from sklearn.metrics import confusion_matrix\n",
    "\n",
    "X_KNN = TF_IDVectorised.iloc[:,1:6101]\n",
    "Y_KNN = TF_IDVectorised.iloc[:,-1]\n",
    "\n",
    "dataset_train, dataset_test, target_train, target_test = train_test_split(X_KNN, Y_KNN, test_size=0.2)\n",
    "knn = KNN(n_neighbors=3)\n",
    "\n",
    "print(\"Training set size is %d\" % dataset_train.shape[0] )\n",
    "print(\"Test set size is %d\" % dataset_test.shape[0] )"
   ]
  },
  {
   "cell_type": "markdown",
   "metadata": {},
   "source": [
    "Using KNN = 5, since with this the highest accuracy was observed"
   ]
  },
  {
   "cell_type": "code",
   "execution_count": 22,
   "metadata": {},
   "outputs": [
    {
     "name": "stdout",
     "output_type": "stream",
     "text": [
      "KNeighborsClassifier(algorithm='auto', leaf_size=30, metric='minkowski',\n",
      "           metric_params=None, n_jobs=1, n_neighbors=5, p=2,\n",
      "           weights='uniform')\n"
     ]
    }
   ],
   "source": [
    "model = KNN(n_neighbors=5)\n",
    "model.fit(dataset_train, target_train)\n",
    "print(model)"
   ]
  },
  {
   "cell_type": "markdown",
   "metadata": {},
   "source": [
    "Use the accuracy metric to check the accuracy of the learning algorithm"
   ]
  },
  {
   "cell_type": "code",
   "execution_count": 51,
   "metadata": {},
   "outputs": [
    {
     "name": "stdout",
     "output_type": "stream",
     "text": [
      "The accuracy of K nearest neighbour is: 0.932624113475\n",
      "The precision of KNN is: [ 0.96        0.94174757  0.88607595]\n",
      "The recall of KNN is: [ 0.89719626  0.96039604  0.94594595]\n",
      "The Fscore of KNN is: [ 0.92753623  0.95098039  0.91503268]\n"
     ]
    }
   ],
   "source": [
    "# Make predictions to see how well is the learning process\n",
    "\n",
    "predicted = model.predict(dataset_test)\n",
    "\n",
    "from sklearn.metrics import accuracy_score\n",
    "accuracy_scores= accuracy_score(target_test, predicted)\n",
    "#print('The accuracy of K nearest neighbour is:',accuracy_scores)\n",
    "#from sklearn.metrics import accuracy_score\n",
    "from sklearn.metrics import precision_recall_fscore_support as score\n",
    "\n",
    "precision, recall, fscore,support = score(target_test, predicted)\n",
    "print('The accuracy of K nearest neighbour is:',accuracy_scores)\n",
    "#print('The accuracy of KNN is:', accuracy_scores)\n",
    "print('The precision of KNN is: {}'.format(precision))\n",
    "print('The recall of KNN is: {}'.format(recall))\n",
    "print('The Fscore of KNN is: {}'.format(fscore))"
   ]
  },
  {
   "cell_type": "markdown",
   "metadata": {},
   "source": [
    "<hr style =\"height:1px\">\n",
    "The second Classifier I will be working with is:\n",
    "<ul>\n",
    "<li> Naive Bayes Classifier  </li>\n",
    "</ul>\n"
   ]
  },
  {
   "cell_type": "code",
   "execution_count": 25,
   "metadata": {
    "collapsed": true
   },
   "outputs": [],
   "source": [
    "# training a Naive Bayes classifier\n",
    "from sklearn.naive_bayes import GaussianNB\n",
    "#from sklearn.naive_bayes import MultinomialNB\n",
    "# X -> features, y -> label\n",
    "\n",
    "features = TF_IDVectorised.iloc[:,1:6101]\n",
    "label = TF_IDVectorised.iloc[:,-1]\n",
    " \n",
    "# dividing features, label into train and test data\n",
    "X_train, X_test, y_train, y_test = train_test_split(features, label, random_state = 0)\n",
    "\n",
    "Gaussian_NB = GaussianNB().fit(X_train, y_train)\n",
    "Gaussian_NB_Predict = Gaussian_NB.predict(X_test)"
   ]
  },
  {
   "cell_type": "code",
   "execution_count": 26,
   "metadata": {},
   "outputs": [],
   "source": [
    "# accuracy on X_test\n",
    "accuracy = Gaussian_NB.score(X_test, y_test)\n",
    "#print('The accuracy of the Naive Bayes classifier is:',accuracy)"
   ]
  },
  {
   "cell_type": "code",
   "execution_count": 27,
   "metadata": {},
   "outputs": [
    {
     "name": "stdout",
     "output_type": "stream",
     "text": [
      "The accuracy of Gaussian Naive Bayes is 0.957386363636\n",
      "The precision score of Gaussian Naive Bayes is: [ 0.98076923  0.98571429  0.89814815]\n",
      "The recall score of Gaussian Naive Bayes is: [ 0.91071429  0.9787234   0.97979798]\n",
      "The fscore of Gaussian Naive Bayes is: [ 0.94444444  0.98220641  0.93719807]\n"
     ]
    }
   ],
   "source": [
    "Precision, Recall, Fscore, Support = score(y_test, Gaussian_NB_Predict)\n",
    "print('The accuracy of Gaussian Naive Bayes is',accuracy)\n",
    "print('The precision score of Gaussian Naive Bayes is: {}'.format(Precision))\n",
    "print('The recall score of Gaussian Naive Bayes is: {}'.format(Recall))\n",
    "print('The fscore of Gaussian Naive Bayes is: {}'.format(Fscore))\n"
   ]
  },
  {
   "cell_type": "markdown",
   "metadata": {},
   "source": [
    "<h3> 3. Evaluation</h3>"
   ]
  },
  {
   "cell_type": "markdown",
   "metadata": {},
   "source": [
    "Evaluation is used to compare the two classification models based on their performance metrics which are:\n",
    "<ol>\n",
    "    <li> Accuracy </li>\n",
    "    <li> Precision </li>\n",
    "    <li> Recall </li>\n",
    "    <li> F1 -Scores </li>\n",
    "</ol>\n",
    "\n",
    "In the following section, we look at the evaluation metrics apart from accuracy for evaluating the classification models better. While accuracy is a good measure of how well a classifier has learn't, we cannot solely depend on it, as if the classes(features) are unbalanced, it might not be the best measure to look at. From the previous section, we see that the accuracy of the KNN classifier is 93% and Naive Bayes is roughly 95%"
   ]
  },
  {
   "cell_type": "markdown",
   "metadata": {},
   "source": [
    "Precision and recall show the model's correct prediction based on relevent information, and it gives a good index of correct predictions( true positive) and false positive."
   ]
  },
  {
   "cell_type": "code",
   "execution_count": 38,
   "metadata": {},
   "outputs": [
    {
     "name": "stdout",
     "output_type": "stream",
     "text": [
      "The Precision, Recall and F1 scores for KNN are:\n",
      "\n",
      "Precision (Positive) = 0.93\n",
      "Recall (Positive) = 0.93\n",
      "F1 (Positive) = 0.93\n"
     ]
    }
   ],
   "source": [
    "from sklearn.metrics import *\n",
    "# Note that we indicate that we are interested in the Positive class here, which is labelled as \"1\"\n",
    "knn_precision = precision_score(target_test, predicted, average='micro')\n",
    "knn_recall = recall_score(target_test, predicted, average='micro')\n",
    "knn_F1_score = f1_score(target_test, predicted, average='micro')\n",
    "print('The Precision, Recall and F1 scores for KNN are:\\n')\n",
    "print(\"Precision (Positive) = %.2f\" % knn_precision )\n",
    "print(\"Recall (Positive) = %.2f\" % knn_recall )\n",
    "print(\"F1 (Positive) = %.2f\" % knn_F1_score )"
   ]
  },
  {
   "cell_type": "code",
   "execution_count": 39,
   "metadata": {},
   "outputs": [
    {
     "name": "stdout",
     "output_type": "stream",
     "text": [
      "The Precision and Recall scores for Naive Bayes are:\n",
      "\n",
      "Precision (Positive) = 0.96\n",
      "Recall (Positive) = 0.96\n"
     ]
    }
   ],
   "source": [
    "print('The Precision and Recall scores for Naive Bayes are:\\n')\n",
    "nb_precision = precision_score(y_test, Gaussian_NB_Predict, average='micro')\n",
    "nb_recall = recall_score(y_test, Gaussian_NB_Predict, average='micro')\n",
    "\n",
    "print(\"Precision (Positive) = %.2f\" % nb_precision )\n",
    "print(\"Recall (Positive) = %.2f\" % nb_recall )"
   ]
  },
  {
   "cell_type": "markdown",
   "metadata": {},
   "source": [
    "CONFUSION MATRIX\n",
    " \n",
    "The confusion matrix is used to evaluate how correctly "
   ]
  },
  {
   "cell_type": "code",
   "execution_count": 40,
   "metadata": {},
   "outputs": [
    {
     "name": "stdout",
     "output_type": "stream",
     "text": [
      "The confusion matrix for the given data using KNN classification is:\n",
      " \n",
      " [[96  3  8]\n",
      " [ 3 97  1]\n",
      " [ 1  3 70]]\n",
      "\n",
      "\n"
     ]
    },
    {
     "data": {
      "image/png": "[encoded data removed]",
      "text/plain": [
       "<matplotlib.figure.Figure at 0x288ee3d6748>"
      ]
     },
     "metadata": {},
     "output_type": "display_data"
    }
   ],
   "source": [
    "# build the confusion matrix for KNN classifier\n",
    "import pylab as pl\n",
    "confusion_mat = confusion_matrix(target_test, predicted)\n",
    "print('The confusion matrix for the given data using KNN classification is:\\n \\n',confusion_mat)\n",
    "print('\\n')\n",
    "\n",
    "pl.matshow(confusion_mat)\n",
    "pl.title('Confusion matrix of KNN')\n",
    "pl.colorbar()\n",
    "pl.show()"
   ]
  },
  {
   "cell_type": "markdown",
   "metadata": {},
   "source": [
    "For KNN, we see that we have a high level of accuracy when it comes to predictions for all the categories(correct predictions are given by green and yellow colour). and incorrect mapping(seen in purple/blue).\n",
    "\n",
    "For Naive Bayes, the confusion matrix below shows how well has the classification model performed."
   ]
  },
  {
   "cell_type": "code",
   "execution_count": 41,
   "metadata": {},
   "outputs": [
    {
     "name": "stdout",
     "output_type": "stream",
     "text": [
      "\n",
      "\n",
      "The confusion matrix of the data using Naive Bayes classification is: \n",
      " [[102   0  10]\n",
      " [  2 138   1]\n",
      " [  0   2  97]]\n"
     ]
    },
    {
     "data": {
      "image/png": "[encoded data removed]",
      "text/plain": [
       "<matplotlib.figure.Figure at 0x2888cbed3c8>"
      ]
     },
     "metadata": {},
     "output_type": "display_data"
    }
   ],
   "source": [
    "# build the confusion matrix for Naive Bayes Classifier \n",
    "NB_Confusion_Matrix = confusion_matrix(y_test, Gaussian_NB_Predict)\n",
    "\n",
    "print('\\n')\n",
    "print('The confusion matrix of the data using Naive Bayes classification is: \\n',NB_Confusion_Matrix)\n",
    "pl.matshow(NB_Confusion_Matrix)\n",
    "pl.title('Confusion matrix of Naive Bayes')\n",
    "pl.colorbar()\n",
    "pl.show()"
   ]
  },
  {
   "cell_type": "markdown",
   "metadata": {},
   "source": [
    "CROSS VALIDATION\n",
    "\n",
    "Cross-validation is a technique to evaluate predictive models by partitioning the original sample into a training set to train the model, and a test set to evaluate it. \n",
    "\n",
    "By using cross validation, we keep overfitting in check."
   ]
  },
  {
   "cell_type": "code",
   "execution_count": 42,
   "metadata": {},
   "outputs": [
    {
     "name": "stdout",
     "output_type": "stream",
     "text": [
      "KNN: Mean cross-validation accuracy = 0.96\n",
      "Naive Bayes: Mean cross-validation accuracy = 0.96\n"
     ]
    }
   ],
   "source": [
    "# Getting the mean score accross all the cross validation\n",
    "from sklearn.model_selection import cross_val_score\n",
    "acc_scores = cross_val_score(model, X_KNN, Y_KNN, cv=10, scoring=\"accuracy\")\n",
    "print(\"KNN: Mean cross-validation accuracy = %.2f\" % acc_scores.mean() )\n",
    "\n",
    "Naive_bayes_accuracy_score = cross_val_score(Gaussian_NB, features, label, cv=10, scoring=\"accuracy\")\n",
    "print(\"Naive Bayes: Mean cross-validation accuracy = %.2f\" % acc_scores.mean() )"
   ]
  },
  {
   "cell_type": "markdown",
   "metadata": {},
   "source": [
    "Cross Validation ensures that the choice of test and training data does not hamper the model's ability to correctly predict. The average score for both models shows that by performing cross validation, the average accuracy for Naive Bayes improves, and that for KNN decreases. \n",
    "\n",
    "This is why cross validation is a good measure to supress over-fitting."
   ]
  },
  {
   "cell_type": "code",
   "execution_count": 52,
   "metadata": {
    "collapsed": true
   },
   "outputs": [],
   "source": [
    "Scores_KNN = [accuracy_scores,knn_precision,knn_recall]\n",
    "Scores_NB = [accuracy,nb_precision,nb_recall]\n"
   ]
  },
  {
   "cell_type": "code",
   "execution_count": 53,
   "metadata": {},
   "outputs": [],
   "source": [
    "import numpy as np\n",
    "#import matplotlib.pyplot as plt\n",
    "import matplotlib.pyplot as plt\n",
    "#import plotly.plotly as py\n",
    "measure =['Accuracy', 'Precision','Recall']\n",
    "Scores_KNN = [accuracy_scores,knn_precision,knn_recall]\n",
    "Scores_NB = [accuracy,nb_precision,nb_recall]\n",
    "scores = pd.DataFrame(\n",
    "    {'Measure':measure,\n",
    "     'KNN': Scores_KNN,\n",
    "     'Naive Bayes': Scores_NB,\n",
    "    })\n",
    "\n",
    "scores= scores.set_index('Measure')"
   ]
  },
  {
   "cell_type": "code",
   "execution_count": 54,
   "metadata": {},
   "outputs": [
    {
     "data": {
      "text/html": [
       "<div>\n",
       "<style>\n",
       "    .dataframe thead tr:only-child th {\n",
       "        text-align: right;\n",
       "    }\n",
       "\n",
       "    .dataframe thead th {\n",
       "        text-align: left;\n",
       "    }\n",
       "\n",
       "    .dataframe tbody tr th {\n",
       "        vertical-align: top;\n",
       "    }\n",
       "</style>\n",
       "<table border=\"1\" class=\"dataframe\">\n",
       "  <thead>\n",
       "    <tr style=\"text-align: right;\">\n",
       "      <th></th>\n",
       "      <th>KNN</th>\n",
       "      <th>Naive Bayes</th>\n",
       "    </tr>\n",
       "    <tr>\n",
       "      <th>Measure</th>\n",
       "      <th></th>\n",
       "      <th></th>\n",
       "    </tr>\n",
       "  </thead>\n",
       "  <tbody>\n",
       "    <tr>\n",
       "      <th>Accuracy</th>\n",
       "      <td>0.932624</td>\n",
       "      <td>0.957386</td>\n",
       "    </tr>\n",
       "    <tr>\n",
       "      <th>Precision</th>\n",
       "      <td>0.932624</td>\n",
       "      <td>0.957386</td>\n",
       "    </tr>\n",
       "    <tr>\n",
       "      <th>Recall</th>\n",
       "      <td>0.932624</td>\n",
       "      <td>0.957386</td>\n",
       "    </tr>\n",
       "  </tbody>\n",
       "</table>\n",
       "</div>"
      ],
      "text/plain": [
       "                KNN  Naive Bayes\n",
       "Measure                         \n",
       "Accuracy   0.932624     0.957386\n",
       "Precision  0.932624     0.957386\n",
       "Recall     0.932624     0.957386"
      ]
     },
     "execution_count": 54,
     "metadata": {},
     "output_type": "execute_result"
    }
   ],
   "source": [
    "scores"
   ]
  },
  {
   "cell_type": "code",
   "execution_count": 55,
   "metadata": {},
   "outputs": [
    {
     "data": {
      "image/png": "[encoded data removed]",
      "text/plain": [
       "<matplotlib.figure.Figure at 0x2888cd14630>"
      ]
     },
     "metadata": {},
     "output_type": "display_data"
    }
   ],
   "source": [
    "p = scores.plot.bar(figsize=(10,10),fontsize=14)\n",
    "p.set_xlabel(\"Evaluation Metrics\",fontsize=14)\n",
    "p.set_ylabel(\"Score percentage\",fontsize=14)\n",
    "p.set_title(\"Comparision of the 2 classification models\",fontsize=14)\n",
    "#p = scores.plot.bar()\n",
    "plt.show()"
   ]
  },
  {
   "cell_type": "markdown",
   "metadata": {},
   "source": [
    "From the graph above, we can see that for the given Data, in terms of Precision, recall and accuracy, the performance of Naive Bayes classifier is better than KNN for our data. \n",
    "KNN is better for a smaller dataset, but doesn't work that well with large dataset. It also doesn't take into consideration which attributes are more important than the others.\n",
    "\n",
    "Which is why, for our data, Naive-Bayes is a better classificaiton model.\n"
   ]
  },
  {
   "cell_type": "code",
   "execution_count": 56,
   "metadata": {},
   "outputs": [
    {
     "name": "stdout",
     "output_type": "stream",
     "text": [
      "The Summarised classification report for KNN is:\n",
      "             precision    recall  f1-score   support\n",
      "\n",
      "   business       0.96      0.90      0.93       107\n",
      "      sport       0.94      0.96      0.95       101\n",
      " technology       0.89      0.95      0.92        74\n",
      "\n",
      "avg / total       0.93      0.93      0.93       282\n",
      "\n"
     ]
    }
   ],
   "source": [
    "from sklearn.metrics import classification_report\n",
    "\n",
    "print('The Summarised classification report for KNN is:')\n",
    "print(classification_report(target_test, predicted))\n"
   ]
  },
  {
   "cell_type": "code",
   "execution_count": 57,
   "metadata": {},
   "outputs": [
    {
     "name": "stdout",
     "output_type": "stream",
     "text": [
      "The Summarised classification report for Naive Bayes is:\n",
      "             precision    recall  f1-score   support\n",
      "\n",
      "   business       0.98      0.91      0.94       112\n",
      "      sport       0.99      0.98      0.98       141\n",
      " technology       0.90      0.98      0.94        99\n",
      "\n",
      "avg / total       0.96      0.96      0.96       352\n",
      "\n"
     ]
    }
   ],
   "source": [
    "print('The Summarised classification report for Naive Bayes is:')\n",
    "print(classification_report(y_test, Gaussian_NB_Predict))"
   ]
  },
  {
   "cell_type": "markdown",
   "metadata": {},
   "source": [
    "The summarised classification report of both the models show the performance metrics of each classification model and how they performed for each of the categories.  "
   ]
  },
  {
   "cell_type": "markdown",
   "metadata": {},
   "source": [
    "<hr style ='height:2px'>\n"
   ]
  }
 ],
 "metadata": {
  "kernelspec": {
   "display_name": "Python 3",
   "language": "python",
   "name": "python3"
  },
  "language_info": {
   "codemirror_mode": {
    "name": "ipython",
    "version": 3
   },
   "file_extension": ".py",
   "mimetype": "text/x-python",
   "name": "python",
   "nbconvert_exporter": "python",
   "pygments_lexer": "ipython3",
   "version": "3.6.3"
  }
 },
 "nbformat": 4,
 "nbformat_minor": 2
}
